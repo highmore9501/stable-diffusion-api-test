{
 "cells": [
  {
   "cell_type": "code",
   "execution_count": 1,
   "metadata": {},
   "outputs": [],
   "source": [
    "import json\n",
    "from urllib import request, parse\n",
    "import uuid\n",
    "import urllib.request\n",
    "import urllib.parse\n",
    "import io\n",
    "import os\n",
    "from PIL import Image\n",
    "import websocket\n",
    "from urllib.error import URLError\n"
   ]
  },
  {
   "cell_type": "markdown",
   "metadata": {},
   "source": [
    "## 导入prompt模板\n",
    "comfyUI的模板其实就是它的节点信息json,这里我们加载的这个节点信息文件，是只有一个controlnet模块的节点信息文件，具体内容可以看print的结果"
   ]
  },
  {
   "cell_type": "code",
   "execution_count": 2,
   "metadata": {},
   "outputs": [
    {
     "name": "stdout",
     "output_type": "stream",
     "text": [
      "{'3': {'inputs': {'seed': 871461132526194, 'steps': 40, 'cfg': 7.5, 'sampler_name': 'dpmpp_3m_sde_gpu', 'scheduler': 'exponential', 'denoise': 1, 'model': ['18', 0], 'positive': ['15', 0], 'negative': ['15', 1], 'latent_image': ['5', 0]}, 'class_type': 'KSampler'}, '4': {'inputs': {'ckpt_name': 'fudukiMix_v15.safetensors'}, 'class_type': 'CheckpointLoaderSimple'}, '5': {'inputs': {'width': 832, 'height': 1216, 'batch_size': 4}, 'class_type': 'EmptyLatentImage'}, '6': {'inputs': {'text': 'nude,1 girl,(female child:0.3),cuty face,(high resolution detail of human skin texture:1.4,rough skin:1.2),(indirect lighting),pussy', 'clip': ['18', 1]}, 'class_type': 'CLIPTextEncode'}, '7': {'inputs': {'text': '(worst quality, low quality:1.4), (deformed, distorted, disfigured:1.3), (depth of field, bokeh, blurry, blurry background:1.4), manicure,lip,illustration, 2d, 2.5d, painting, cartoons, sketch, watercolor, logo, watermark, double navel, greyscale,', 'clip': ['18', 1]}, 'class_type': 'CLIPTextEncode'}, '8': {'inputs': {'samples': ['3', 0], 'vae': ['4', 2]}, 'class_type': 'VAEDecode'}, '9': {'inputs': {'filename_prefix': 'ComfyUI', 'images': ['8', 0]}, 'class_type': 'SaveImage'}, '11': {'inputs': {'control_net_name': 'models\\\\t2i-adapter_diffusers_xl_depth_midas.safetensors'}, 'class_type': 'ControlNetLoader'}, '13': {'inputs': {'image': '001.jpg', 'choose file to upload': 'image'}, 'class_type': 'LoadImage'}, '15': {'inputs': {'strength': 1, 'start_percent': 0, 'end_percent': 0.5, 'positive': ['6', 0], 'negative': ['7', 0], 'control_net': ['11', 0], 'image': ['13', 0]}, 'class_type': 'ControlNetApplyAdvanced'}, '18': {'inputs': {'lora_name': 'skirtlift_xl.safetensors', 'strength_model': 1, 'strength_clip': 0.6, 'model': ['4', 0], 'clip': ['4', 1]}, 'class_type': 'LoraLoader'}}\n"
     ]
    }
   ],
   "source": [
    "promptJson = 'workflow_api_controlnet.json'\n",
    "\n",
    "with open(promptJson) as f:\n",
    "    prompt = json.load(f)\n",
    "\n",
    "print(str(prompt))"
   ]
  },
  {
   "cell_type": "markdown",
   "metadata": {},
   "source": [
    "## 各种参数设置\n",
    "各种基本参数都在这里设置"
   ]
  },
  {
   "cell_type": "code",
   "execution_count": 3,
   "metadata": {},
   "outputs": [],
   "source": [
    "# 服务器端口，如果不是本机需要设置成服务器的ip地址\n",
    "server_address = \"127.0.0.1:8188\"\n",
    "client_id = str(uuid.uuid4())\n",
    "\n",
    "# 种子值，当为0时，随机生成\n",
    "seed = 0\n",
    "prompt['3']['inputs']['seed'] = seed\n",
    "# 使用的sdxl模型\n",
    "checkPoint = 'fudukiMix_v15.safetensors'\n",
    "prompt['4']['inputs']['ckpt_name'] = checkPoint\n",
    "# 批量生成的图片数量\n",
    "batch_size = 1\n",
    "prompt['5']['inputs']['batch_size'] = batch_size\n",
    "# 使用的controlnet模型，这里是使用了一个深度图的controlnet\n",
    "controlnet = 'models\\\\t2i-adapter_diffusers_xl_depth_midas.safetensors'\n",
    "prompt['11']['inputs']['control_net_name'] = controlnet\n",
    "# controlnet起作用的区间\n",
    "controlnet_start = 0\n",
    "controlnet_end = 0.5\n",
    "prompt['15']['inputs']['start_percent'] = controlnet_start\n",
    "prompt['15']['inputs']['end_percent'] = controlnet_end\n",
    "# 使用的lora模型，这里只使用了一个lora\n",
    "lora_name = 'skirtlift_xl.safetensors'\n",
    "strength_clip = 0.6\n",
    "prompt['18']['inputs']['lora_name'] = lora_name\n",
    "prompt['18']['inputs']['strength_clip'] = strength_clip\n"
   ]
  },
  {
   "cell_type": "code",
   "execution_count": 4,
   "metadata": {},
   "outputs": [],
   "source": [
    "# 根据原图的宽高，计算出缩放后的宽高\n",
    "def changeImageSize(width, height):\n",
    "    # 最小的宽高为 896\n",
    "    limited = 896\n",
    "    minSize = min(width, height)\n",
    "\n",
    "    # 缩放宽高，使得最窄的边等于limited\n",
    "    if minSize > limited:\n",
    "        scale = minSize / limited\n",
    "        widthScale = int(width / scale)\n",
    "        heightScale = int(height / scale)\n",
    "    else:\n",
    "        scale = limited / minSize\n",
    "        widthScale = int(width * scale)\n",
    "        heightScale = int(height * scale)\n",
    "\n",
    "    # 将两个值都除以64，然后取整,也就是说边长必须是64的倍数\n",
    "    widthScale = int(widthScale/64) * 64\n",
    "    heightScale = int(heightScale/64) * 64\n",
    "\n",
    "    return widthScale, heightScale\n",
    "# 检测同名图片是否存在\n",
    "def checkImageExsit(imageDir, imageName):\n",
    "    for file in os.listdir(imageDir):\n",
    "        if file.startswith(imageName):\n",
    "            return True\n",
    "    return False\n",
    "# 下面几个方法是发送请求，返回图片的方法\n",
    "def queue_prompt(prompt):\n",
    "    while True:\n",
    "        try:\n",
    "            p = {\"prompt\": prompt, \"client_id\": client_id}\n",
    "            data = json.dumps(p).encode('utf-8')\n",
    "            req = urllib.request.Request(\"http://{}/prompt\".format(server_address), data=data)\n",
    "            return json.loads(urllib.request.urlopen(req, timeout=5).read())\n",
    "        except URLError:\n",
    "            print(\"连接超时，正在重试...\")\n",
    "\n",
    "def get_history(prompt_id):\n",
    "    with urllib.request.urlopen(\"http://{}/history/{}\".format(server_address, prompt_id)) as response:\n",
    "        return json.loads(response.read())\n",
    "\n",
    "def get_image(filename, subfolder, folder_type):\n",
    "    data = {\"filename\": filename, \"subfolder\": subfolder, \"type\": folder_type}\n",
    "    url_values = urllib.parse.urlencode(data)\n",
    "    with urllib.request.urlopen(\"http://{}/view?{}\".format(server_address, url_values)) as response:\n",
    "        return response.read()\n",
    "\n",
    "def get_images(ws, prompt):\n",
    "    prompt_id = queue_prompt(prompt)['prompt_id']\n",
    "    output_images = {}\n",
    "    while True:\n",
    "        out = ws.recv()\n",
    "        if isinstance(out, str):\n",
    "            message = json.loads(out)\n",
    "            if message['type'] == 'executing':\n",
    "                data = message['data']\n",
    "                if data['node'] is None and data['prompt_id'] == prompt_id:\n",
    "                    break #Execution is done\n",
    "        else:\n",
    "            continue #previews are binary data\n",
    "\n",
    "    history = get_history(prompt_id)[prompt_id]\n",
    "    for o in history['outputs']:\n",
    "        for node_id in history['outputs']:\n",
    "            node_output = history['outputs'][node_id]\n",
    "            if 'images' in node_output:\n",
    "                images_output = []\n",
    "                for image in node_output['images']:\n",
    "                    image_data = get_image(image['filename'], image['subfolder'], image['type'])\n",
    "                    images_output.append(image_data)\n",
    "            output_images[node_id] = images_output\n",
    "\n",
    "    return output_images\n",
    "# 保存图片的方法  \n",
    "def saveImages(result, imageDir,imageName,controlnetNumber=0):       \n",
    "    for node_id in result:\n",
    "        k = 0\n",
    "        for image_data in result[node_id]:            \n",
    "            image = Image.open(io.BytesIO(image_data))\n",
    "            imagePath = imageDir + \"/\" + imageName + f\"_{k}\" + \".png\"\n",
    "            image.save(imagePath) \n",
    "            k += 1\n",
    "    "
   ]
  },
  {
   "cell_type": "markdown",
   "metadata": {},
   "source": [
    "## 设置输入输出文件夹\n",
    "这里设置输入输出文件夹"
   ]
  },
  {
   "cell_type": "code",
   "execution_count": 5,
   "metadata": {},
   "outputs": [],
   "source": [
    "# 子文件夹\n",
    "subDir = \"4.12\"\n",
    "# 原图文件夹\n",
    "originalDir = f\"you_orginal_image_dir/{subDir}\"\n",
    "# 设置图片保存路径\n",
    "imageDir = f\"you_output_image_dir/{subDir}\"\n",
    "# 如果文件夹不存在，创建文件夹\n",
    "if not os.path.exists(imageDir):\n",
    "    os.mkdir(imageDir)"
   ]
  },
  {
   "cell_type": "markdown",
   "metadata": {},
   "source": [
    "## 执行批量生成"
   ]
  },
  {
   "cell_type": "code",
   "execution_count": 6,
   "metadata": {},
   "outputs": [
    {
     "name": "stdout",
     "output_type": "stream",
     "text": [
      "原图名字：019。大小：720x960\n",
      "缩放后的图片大小是896*1152\n"
     ]
    },
    {
     "name": "stdout",
     "output_type": "stream",
     "text": [
      "原图名字：020。大小：720x960\n",
      "缩放后的图片大小是896*1152\n"
     ]
    }
   ],
   "source": [
    "# 正面提示词\n",
    "input_text = '1 girl,cuty face,(high resolution detail of human skin texture:1.4,rough skin:1.2),(indirect lighting)'\n",
    "prompt['6']['inputs']['text'] = input_text\n",
    "# 负面提示词\n",
    "negative_text = '(worst quality, low quality:1.4), (deformed, distorted, disfigured:1.3), (depth of field, bokeh, blurry, blurry background:1.4), manicure,lip,illustration, 2d, 2.5d, painting, cartoons, sketch, watercolor, logo, watermark, double navel, greyscale,'\n",
    "prompt['7']['inputs']['text'] = negative_text\n",
    "\n",
    "ws = websocket.WebSocket()\n",
    "ws.connect(\"ws://{}/ws?clientId={}\".format(server_address, client_id))\n",
    "\n",
    "# 遍历原图文件夹里所有的图片\n",
    "for originalImag in os.listdir(originalDir):\n",
    "        # 如果不是jpg文件，跳过\n",
    "        if not originalImag.endswith(\".jpg\"):\n",
    "            continue\n",
    "        \n",
    "        originalImagePath = originalDir + \"/\" + originalImag\n",
    "        # 读取原图，以及其大小\n",
    "        originalImage = Image.open(originalImagePath)\n",
    "        originalImageWidth = originalImage.size[0]\n",
    "        originalImageHeight = originalImage.size[1]\n",
    "        \n",
    "        # 读取原图片名字，去掉后缀.png\n",
    "        originalImagName = originalImag.split(\".\")[0]\n",
    "        \n",
    "        print(f\"原图名字：{originalImagName}。大小：{originalImageWidth}x{originalImageHeight}\")\n",
    "        width,height = changeImageSize(originalImageWidth, originalImageHeight)\n",
    "        print(f\"缩放后的图片大小是{width}*{height}\")\n",
    "        \n",
    "        prompt['5']['inputs']['width'] = width\n",
    "        prompt['5']['inputs']['height'] = height\n",
    "        prompt['13']['inputs']['image'] = originalImagePath\n",
    "        \n",
    "        if checkImageExsit(imageDir, originalImagName):\n",
    "            print(f\"{originalImagName}已经存在，跳过\")\n",
    "            continue\n",
    "        \n",
    "        \n",
    "        images = get_images(ws, prompt)\n",
    "        \n",
    "        saveImages(images, imageDir,originalImagName,controlnetNumber=0) \n",
    "        "
   ]
  }
 ],
 "metadata": {
  "kernelspec": {
   "display_name": ".venv",
   "language": "python",
   "name": "python3"
  },
  "language_info": {
   "codemirror_mode": {
    "name": "ipython",
    "version": 3
   },
   "file_extension": ".py",
   "mimetype": "text/x-python",
   "name": "python",
   "nbconvert_exporter": "python",
   "pygments_lexer": "ipython3",
   "version": "3.10.6"
  },
  "orig_nbformat": 4
 },
 "nbformat": 4,
 "nbformat_minor": 2
}
